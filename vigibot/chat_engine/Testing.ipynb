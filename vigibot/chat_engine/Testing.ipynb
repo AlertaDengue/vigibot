{
 "metadata": {
  "language_info": {
   "codemirror_mode": {
    "name": "ipython",
    "version": 3
   },
   "file_extension": ".py",
   "mimetype": "text/x-python",
   "name": "python",
   "nbconvert_exporter": "python",
   "pygments_lexer": "ipython3",
   "version": "3.8.6-final"
  },
  "orig_nbformat": 2,
  "kernelspec": {
   "name": "python3",
   "display_name": "Python 3",
   "language": "python"
  }
 },
 "nbformat": 4,
 "nbformat_minor": 2,
 "cells": [
  {
   "cell_type": "code",
   "execution_count": 1,
   "metadata": {},
   "outputs": [],
   "source": [
    "from chatterbot import ChatBot\n",
    "from chatterbot.trainers import ChatterBotCorpusTrainer"
   ]
  },
  {
   "cell_type": "code",
   "execution_count": 2,
   "metadata": {},
   "outputs": [],
   "source": [
    "chatbot = ChatBot('Vigibot')"
   ]
  },
  {
   "cell_type": "code",
   "execution_count": 3,
   "metadata": {},
   "outputs": [],
   "source": [
    "# Create a new trainer for the chatbot\n",
    "trainer = ChatterBotCorpusTrainer(chatbot)\n"
   ]
  },
  {
   "cell_type": "code",
   "execution_count": 4,
   "metadata": {},
   "outputs": [
    {
     "output_type": "stream",
     "name": "stdout",
     "text": [
      "Training epidemiologia.yml: [####################] 100%\n"
     ]
    }
   ],
   "source": [
    "# Train the chatbot based on our epidemiology corpus\n",
    "trainer.train(\"corpora.portuguese\")"
   ]
  },
  {
   "cell_type": "code",
   "execution_count": 5,
   "metadata": {},
   "outputs": [
    {
     "output_type": "execute_result",
     "data": {
      "text/plain": [
       "<Statement text:A dengue é uma doença viral transmitida por mosquitos do gênero Aedes.>"
      ]
     },
     "metadata": {},
     "execution_count": 5
    }
   ],
   "source": [
    "chatbot.get_response('Dengue')"
   ]
  },
  {
   "cell_type": "code",
   "execution_count": 6,
   "metadata": {},
   "outputs": [
    {
     "output_type": "execute_result",
     "data": {
      "text/plain": [
       "<Statement text:Eu sou um robô, e estou sempre aprendendo com epidemiologistas.>"
      ]
     },
     "metadata": {},
     "execution_count": 6
    }
   ],
   "source": [
    "chatbot.get_response('você é epidemiologista?')"
   ]
  },
  {
   "cell_type": "code",
   "execution_count": 7,
   "metadata": {},
   "outputs": [
    {
     "output_type": "execute_result",
     "data": {
      "text/plain": [
       "<Statement text:Chikungunya é uma doença viral transmitida por mosquitos do gênero Aedes.>"
      ]
     },
     "metadata": {},
     "execution_count": 7
    }
   ],
   "source": [
    "chatbot.get_response('O que é Chikungunya?')"
   ]
  },
  {
   "cell_type": "code",
   "execution_count": 10,
   "metadata": {},
   "outputs": [
    {
     "output_type": "execute_result",
     "data": {
      "text/plain": [
       "<Statement text:A epidemiologia é a ciência que estuda as doenças e seus determinantes.>"
      ]
     },
     "metadata": {},
     "execution_count": 10
    }
   ],
   "source": [
    "chatbot.get_response('o que é Epidemiologia')"
   ]
  },
  {
   "cell_type": "code",
   "execution_count": null,
   "metadata": {},
   "outputs": [],
   "source": []
  },
  {
   "cell_type": "code",
   "execution_count": null,
   "metadata": {},
   "outputs": [],
   "source": []
  }
 ]
}